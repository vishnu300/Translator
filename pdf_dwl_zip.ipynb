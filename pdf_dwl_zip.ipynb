{
 "cells": [
  {
   "cell_type": "code",
   "execution_count": null,
   "metadata": {},
   "outputs": [],
   "source": [
    "\n",
    "from pdf2image import convert_from_path\n",
    "\n",
    "POPPLER_PATH = r\"C:\\Users\\420317\\Downloads\\Release-24.08.0-0\\poppler-24.08.0\\Library\\bin\"  \n",
    "\n",
    "image_path = r\"C:\\Users\\420317\\Downloads\\Ec.pdf\"\n",
    "pdf_file = convert_from_path(image_path, poppler_path=POPPLER_PATH)\n",
    "\n",
    "img_fld = r\"D:\\VISHNU A M\\Projects\\Translate\\images_save\"\n",
    "\n",
    "def save_folder(pdf_file,out_put):\n",
    "    for i in range(len(pdf_file)):\n",
    "\n",
    "        with open(images,'w') as img:\n",
    "            img.save('page'+ str(i) +'.jpg', 'JPEG')()\n",
    "\n",
    "save_folder(pdf_file,img_fld)"
   ]
  },
  {
   "cell_type": "code",
   "execution_count": 24,
   "metadata": {},
   "outputs": [],
   "source": [
    "#  open folders in \n",
    "#  read files \n",
    "from pdf2image import convert_from_path\n",
    "\n",
    "POPPLER_PATH = r\"C:\\Users\\420317\\Downloads\\Release-24.08.0-0\\poppler-24.08.0\\Library\\bin\"  \n",
    "\n",
    "image_path = r\"C:\\Users\\420317\\Downloads\\Ec.pdf\"\n",
    "pdf_file = convert_from_path(image_path, poppler_path=POPPLER_PATH)\n",
    "\n",
    "def save_img_pdf(inp_pdf):\n",
    "    for i in range(len(inp_pdf)):\n",
    "        img_fld = inp_pdf[i].save('D:\\\\VISHNU A M\\\\Projects\\\\Translate\\\\images_save\\\\'+ str(i) +'.jpg')\n",
    "save_img_pdf(pdf_file) "
   ]
  },
  {
   "cell_type": "code",
   "execution_count": null,
   "metadata": {},
   "outputs": [
    {
     "data": {
      "text/plain": [
       "143021"
      ]
     },
     "execution_count": 31,
     "metadata": {},
     "output_type": "execute_result"
    }
   ],
   "source": [
    "from pathlib import Path\n",
    "import pygments\n",
    "from pygments.formatters import ImageFormatter\n",
    "\n",
    "file_path = Path(r'D:\\VISHNU A M\\Projects\\Translate\\output_pdf.txt')\n",
    "text_content = file_path.read_text(encoding='utf-8')\n",
    "\n",
    "lexer = pygments.lexers.TextLexer()\n",
    "png   = pygments.highlight(text_content, lexer, ImageFormatter(line_numbers=False))\n",
    "Path('output.png').write_bytes(png)"
   ]
  },
  {
   "cell_type": "code",
   "execution_count": null,
   "metadata": {},
   "outputs": [],
   "source": [
    "import os\n",
    "import cv2\n",
    "import pytesseract\n",
    "from PIL import Image\n",
    "\n",
    "pytesseract.pytesseract.tesseract_cmd = r\"C:\\Users\\420317\\AppData\\Local\\Programs\\Tesseract-OCR\\tesseract.exe\"\n",
    "\n",
    "output_txt_file = r\"D:\\VISHNU A M\\Projects\\Translate\\transtlate_text\"\n",
    "\n",
    "def image_to_text(input_image_file, output_txt_file):\n",
    "    image = cv2.imread(input_image_file)\n",
    "    gray  = cv2.cvtColor(image, cv2.COLOR_BGR2GRAY)\n",
    "    gray  = cv2.threshold(gray, 0, 255, cv2.THRESH_BINARY + cv2.THRESH_OTSU)[1]\n",
    "    temp_image = \"temp_image.png\"\n",
    "    cv2.imwrite(temp_image, gray)\n",
    "    text = pytesseract.image_to_string(Image.open(temp_image), lang='mal')\n",
    "    \n",
    "    with open(output_txt_file, 'w', encoding='utf-8') as file:\n",
    "        file.write(text)\n",
    "    print(f\"Text extracted and saved to {output_txt_file}\")\n",
    "\n",
    "for files in os.listdir('D:\\\\VISHNU A M\\\\Projects\\\\Translate\\\\images_save\\\\'):\n",
    "    image_to_text(files,output_txt_file)"
   ]
  },
  {
   "cell_type": "code",
   "execution_count": null,
   "metadata": {},
   "outputs": [],
   "source": []
  }
 ],
 "metadata": {
  "kernelspec": {
   "display_name": "Translate",
   "language": "python",
   "name": "python3"
  },
  "language_info": {
   "codemirror_mode": {
    "name": "ipython",
    "version": 3
   },
   "file_extension": ".py",
   "mimetype": "text/x-python",
   "name": "python",
   "nbconvert_exporter": "python",
   "pygments_lexer": "ipython3",
   "version": "3.10.0"
  }
 },
 "nbformat": 4,
 "nbformat_minor": 2
}
