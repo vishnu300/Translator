{
 "cells": [
  {
   "cell_type": "code",
   "execution_count": 7,
   "metadata": {},
   "outputs": [
    {
     "name": "stdout",
     "output_type": "stream",
     "text": [
      "Text extracted and saved to output_we.txt\n"
     ]
    }
   ],
   "source": [
    "import cv2\n",
    "import pytesseract\n",
    "from PIL import Image\n",
    "\n",
    "\n",
    "pytesseract.pytesseract.tesseract_cmd = r\"C:\\Program Files\\Tesseract-OCR\\tesseract.exe\"\n",
    "\n",
    "def image_to_text(input_image_file, output_txt_file):\n",
    "    image = cv2.imread(input_image_file)\n",
    "    gray = cv2.cvtColor(image, cv2.COLOR_BGR2GRAY)\n",
    "    # Apply thresholding for better OCR results\n",
    "    gray = cv2.threshold(gray, 0, 255, cv2.THRESH_BINARY + cv2.THRESH_OTSU)[1]\n",
    "    temp_image = \"temp_image.png\"\n",
    "    cv2.imwrite(temp_image, gray)\n",
    "    text = pytesseract.image_to_string(Image.open(temp_image), lang='mal')\n",
    "    \n",
    "    with open(output_txt_file, 'w', encoding='utf-8') as file:\n",
    "        file.write(text)\n",
    "    \n",
    "    print(f\"Text extracted and saved to {output_txt_file}\")\n",
    "\n",
    "image_to_text(r\"C:\\Users\\DELL\\Pictures\\Screenshots\\Screenshot 2025-03-02 112008.png\", 'output_we.txt')\n"
   ]
  },
  {
   "cell_type": "code",
   "execution_count": 8,
   "metadata": {},
   "outputs": [
    {
     "name": "stdout",
     "output_type": "stream",
     "text": [
      "Text extracted and saved to output_pdf.txt\n"
     ]
    }
   ],
   "source": [
    "import pdf2image\n",
    "\n",
    "pytesseract.pytesseract.tesseract_cmd = r\"C:\\Program Files\\Tesseract-OCR\\tesseract.exe\"\n",
    "\n",
    "\n",
    "POPPLER_PATH = r\"C:\\Users\\DELL\\Downloads\\Release-24.08.0-0\\poppler-24.08.0\\Library\\bin\"  # Change to your actual path\n",
    "\n",
    "def pdf_to_text(input_pdf_file, output_txt_file):\n",
    "    # Convert PDF to images with specified Poppler path\n",
    "    images = pdf2image.convert_from_path(input_pdf_file, poppler_path=POPPLER_PATH)\n",
    "    \n",
    "    text = \"\"\n",
    "    for i, image in enumerate(images):\n",
    "        gray = image.convert('L')\n",
    "        page_text = pytesseract.image_to_string(gray, lang='mal')\n",
    "        text += f\"\\n\\nPage {i+1}:\\n\" + page_text\n",
    "    \n",
    "    with open(output_txt_file, 'w', encoding='utf-8') as file:\n",
    "        file.write(text)\n",
    "\n",
    "    print(f\"Text extracted and saved to {output_txt_file}\")\n",
    "\n",
    "\n",
    "# Example usage\n",
    "pdf_to_text(r\"C:\\Users\\DELL\\Downloads\\Welcome Letter_Malayalam - 24-10-24.pdf\", 'output_pdf.txt')"
   ]
  }
 ],
 "metadata": {
  "kernelspec": {
   "display_name": "Python 3",
   "language": "python",
   "name": "python3"
  },
  "language_info": {
   "codemirror_mode": {
    "name": "ipython",
    "version": 3
   },
   "file_extension": ".py",
   "mimetype": "text/x-python",
   "name": "python",
   "nbconvert_exporter": "python",
   "pygments_lexer": "ipython3",
   "version": "3.12.1"
  }
 },
 "nbformat": 4,
 "nbformat_minor": 2
}
